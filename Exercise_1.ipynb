{
  "nbformat": 4,
  "nbformat_minor": 0,
  "metadata": {
    "colab": {
      "name": "Exercise 1.ipynb",
      "provenance": [],
      "collapsed_sections": [],
      "authorship_tag": "ABX9TyMDNQ/jJTYcmZ1keYoJDYfx",
      "include_colab_link": true
    },
    "kernelspec": {
      "name": "python3",
      "display_name": "Python 3"
    },
    "language_info": {
      "name": "python"
    }
  },
  "cells": [
    {
      "cell_type": "markdown",
      "metadata": {
        "id": "view-in-github",
        "colab_type": "text"
      },
      "source": [
        "<a href=\"https://colab.research.google.com/github/jesyraf/Python-projects/blob/main/Exercise_1.ipynb\" target=\"_parent\"><img src=\"https://colab.research.google.com/assets/colab-badge.svg\" alt=\"Open In Colab\"/></a>"
      ]
    },
    {
      "cell_type": "code",
      "execution_count": null,
      "metadata": {
        "id": "hq4V69cDQvcx"
      },
      "outputs": [],
      "source": [
        "#importing pandas library\n",
        "import pandas as pd\n"
      ]
    },
    {
      "cell_type": "code",
      "source": [
        "#mounting google drive to google colab\n",
        "from google.colab import drive \n",
        "drive.mount('/content/gdrive')"
      ],
      "metadata": {
        "colab": {
          "base_uri": "https://localhost:8080/"
        },
        "id": "ZrKiVcdmWm3s",
        "outputId": "b5bd841d-ee7e-42c3-ec8d-890af5addfc1"
      },
      "execution_count": null,
      "outputs": [
        {
          "output_type": "stream",
          "name": "stdout",
          "text": [
            "Drive already mounted at /content/gdrive; to attempt to forcibly remount, call drive.mount(\"/content/gdrive\", force_remount=True).\n"
          ]
        }
      ]
    },
    {
      "cell_type": "code",
      "source": [
        "#loading the database\n",
        "df=pd.read_csv('gdrive/My Drive/Colab Notebooks/dane.csv')"
      ],
      "metadata": {
        "id": "MWvpRs74WOkA"
      },
      "execution_count": null,
      "outputs": []
    },
    {
      "cell_type": "code",
      "source": [
        "#I had some problems with merging two csv files in pandas so I figured it would be more efficient if I used my Excel knowledge and created a ready database myself through the CONCAT function\n",
        "df.head()"
      ],
      "metadata": {
        "colab": {
          "base_uri": "https://localhost:8080/",
          "height": 206
        },
        "id": "35ifhAPDYNPd",
        "outputId": "bbbef32f-98e7-4ca7-a130-06f4d1f35c0b"
      },
      "execution_count": null,
      "outputs": [
        {
          "output_type": "execute_result",
          "data": {
            "text/plain": [
              "        API_Name     Engine          Region  Average_instances_running  \\\n",
              "0  db.r5.2xlarge     Oracle  ap-southeast-2                        1.0   \n",
              "1    db.r5.large     Oracle  ap-southeast-1                        1.1   \n",
              "2  db.m4.4xlarge     Oracle  ap-southeast-1                        1.1   \n",
              "3    db.t3.small      MySQL  ap-southeast-1                        1.7   \n",
              "4   db.m3.xlarge  Microsoft  ap-southeast-1                        5.0   \n",
              "\n",
              "   Reserved_instances  \n",
              "0                 3.0  \n",
              "1                 6.0  \n",
              "2                 2.0  \n",
              "3                 5.0  \n",
              "4                 1.0  "
            ],
            "text/html": [
              "\n",
              "  <div id=\"df-8e5c5f01-30af-436e-bc9d-76f18270a192\">\n",
              "    <div class=\"colab-df-container\">\n",
              "      <div>\n",
              "<style scoped>\n",
              "    .dataframe tbody tr th:only-of-type {\n",
              "        vertical-align: middle;\n",
              "    }\n",
              "\n",
              "    .dataframe tbody tr th {\n",
              "        vertical-align: top;\n",
              "    }\n",
              "\n",
              "    .dataframe thead th {\n",
              "        text-align: right;\n",
              "    }\n",
              "</style>\n",
              "<table border=\"1\" class=\"dataframe\">\n",
              "  <thead>\n",
              "    <tr style=\"text-align: right;\">\n",
              "      <th></th>\n",
              "      <th>API_Name</th>\n",
              "      <th>Engine</th>\n",
              "      <th>Region</th>\n",
              "      <th>Average_instances_running</th>\n",
              "      <th>Reserved_instances</th>\n",
              "    </tr>\n",
              "  </thead>\n",
              "  <tbody>\n",
              "    <tr>\n",
              "      <th>0</th>\n",
              "      <td>db.r5.2xlarge</td>\n",
              "      <td>Oracle</td>\n",
              "      <td>ap-southeast-2</td>\n",
              "      <td>1.0</td>\n",
              "      <td>3.0</td>\n",
              "    </tr>\n",
              "    <tr>\n",
              "      <th>1</th>\n",
              "      <td>db.r5.large</td>\n",
              "      <td>Oracle</td>\n",
              "      <td>ap-southeast-1</td>\n",
              "      <td>1.1</td>\n",
              "      <td>6.0</td>\n",
              "    </tr>\n",
              "    <tr>\n",
              "      <th>2</th>\n",
              "      <td>db.m4.4xlarge</td>\n",
              "      <td>Oracle</td>\n",
              "      <td>ap-southeast-1</td>\n",
              "      <td>1.1</td>\n",
              "      <td>2.0</td>\n",
              "    </tr>\n",
              "    <tr>\n",
              "      <th>3</th>\n",
              "      <td>db.t3.small</td>\n",
              "      <td>MySQL</td>\n",
              "      <td>ap-southeast-1</td>\n",
              "      <td>1.7</td>\n",
              "      <td>5.0</td>\n",
              "    </tr>\n",
              "    <tr>\n",
              "      <th>4</th>\n",
              "      <td>db.m3.xlarge</td>\n",
              "      <td>Microsoft</td>\n",
              "      <td>ap-southeast-1</td>\n",
              "      <td>5.0</td>\n",
              "      <td>1.0</td>\n",
              "    </tr>\n",
              "  </tbody>\n",
              "</table>\n",
              "</div>\n",
              "      <button class=\"colab-df-convert\" onclick=\"convertToInteractive('df-8e5c5f01-30af-436e-bc9d-76f18270a192')\"\n",
              "              title=\"Convert this dataframe to an interactive table.\"\n",
              "              style=\"display:none;\">\n",
              "        \n",
              "  <svg xmlns=\"http://www.w3.org/2000/svg\" height=\"24px\"viewBox=\"0 0 24 24\"\n",
              "       width=\"24px\">\n",
              "    <path d=\"M0 0h24v24H0V0z\" fill=\"none\"/>\n",
              "    <path d=\"M18.56 5.44l.94 2.06.94-2.06 2.06-.94-2.06-.94-.94-2.06-.94 2.06-2.06.94zm-11 1L8.5 8.5l.94-2.06 2.06-.94-2.06-.94L8.5 2.5l-.94 2.06-2.06.94zm10 10l.94 2.06.94-2.06 2.06-.94-2.06-.94-.94-2.06-.94 2.06-2.06.94z\"/><path d=\"M17.41 7.96l-1.37-1.37c-.4-.4-.92-.59-1.43-.59-.52 0-1.04.2-1.43.59L10.3 9.45l-7.72 7.72c-.78.78-.78 2.05 0 2.83L4 21.41c.39.39.9.59 1.41.59.51 0 1.02-.2 1.41-.59l7.78-7.78 2.81-2.81c.8-.78.8-2.07 0-2.86zM5.41 20L4 18.59l7.72-7.72 1.47 1.35L5.41 20z\"/>\n",
              "  </svg>\n",
              "      </button>\n",
              "      \n",
              "  <style>\n",
              "    .colab-df-container {\n",
              "      display:flex;\n",
              "      flex-wrap:wrap;\n",
              "      gap: 12px;\n",
              "    }\n",
              "\n",
              "    .colab-df-convert {\n",
              "      background-color: #E8F0FE;\n",
              "      border: none;\n",
              "      border-radius: 50%;\n",
              "      cursor: pointer;\n",
              "      display: none;\n",
              "      fill: #1967D2;\n",
              "      height: 32px;\n",
              "      padding: 0 0 0 0;\n",
              "      width: 32px;\n",
              "    }\n",
              "\n",
              "    .colab-df-convert:hover {\n",
              "      background-color: #E2EBFA;\n",
              "      box-shadow: 0px 1px 2px rgba(60, 64, 67, 0.3), 0px 1px 3px 1px rgba(60, 64, 67, 0.15);\n",
              "      fill: #174EA6;\n",
              "    }\n",
              "\n",
              "    [theme=dark] .colab-df-convert {\n",
              "      background-color: #3B4455;\n",
              "      fill: #D2E3FC;\n",
              "    }\n",
              "\n",
              "    [theme=dark] .colab-df-convert:hover {\n",
              "      background-color: #434B5C;\n",
              "      box-shadow: 0px 1px 3px 1px rgba(0, 0, 0, 0.15);\n",
              "      filter: drop-shadow(0px 1px 2px rgba(0, 0, 0, 0.3));\n",
              "      fill: #FFFFFF;\n",
              "    }\n",
              "  </style>\n",
              "\n",
              "      <script>\n",
              "        const buttonEl =\n",
              "          document.querySelector('#df-8e5c5f01-30af-436e-bc9d-76f18270a192 button.colab-df-convert');\n",
              "        buttonEl.style.display =\n",
              "          google.colab.kernel.accessAllowed ? 'block' : 'none';\n",
              "\n",
              "        async function convertToInteractive(key) {\n",
              "          const element = document.querySelector('#df-8e5c5f01-30af-436e-bc9d-76f18270a192');\n",
              "          const dataTable =\n",
              "            await google.colab.kernel.invokeFunction('convertToInteractive',\n",
              "                                                     [key], {});\n",
              "          if (!dataTable) return;\n",
              "\n",
              "          const docLinkHtml = 'Like what you see? Visit the ' +\n",
              "            '<a target=\"_blank\" href=https://colab.research.google.com/notebooks/data_table.ipynb>data table notebook</a>'\n",
              "            + ' to learn more about interactive tables.';\n",
              "          element.innerHTML = '';\n",
              "          dataTable['output_type'] = 'display_data';\n",
              "          await google.colab.output.renderOutput(dataTable, element);\n",
              "          const docLink = document.createElement('div');\n",
              "          docLink.innerHTML = docLinkHtml;\n",
              "          element.appendChild(docLink);\n",
              "        }\n",
              "      </script>\n",
              "    </div>\n",
              "  </div>\n",
              "  "
            ]
          },
          "metadata": {},
          "execution_count": 55
        }
      ]
    },
    {
      "cell_type": "code",
      "source": [
        "#grouping dataset by region\n",
        "regsum = df.groupby(['Region'])[['Average_instances_running', 'Reserved_instances']].sum()\n",
        "print(regsum)"
      ],
      "metadata": {
        "colab": {
          "base_uri": "https://localhost:8080/"
        },
        "id": "3TCwZWXMlon9",
        "outputId": "6218b312-e23b-486e-d42a-9e902bde2c86"
      },
      "execution_count": null,
      "outputs": [
        {
          "output_type": "stream",
          "name": "stdout",
          "text": [
            "                Average_instances_running  Reserved_instances\n",
            "Region                                                       \n",
            "ap-southeast-1                      422.6               532.0\n",
            "ap-southeast-2                       21.0                53.0\n",
            "eu-west-1                            44.0                74.0\n"
          ]
        }
      ]
    },
    {
      "cell_type": "code",
      "source": [
        "#grouping dataset by API names\n",
        "apisum = df.groupby(['API_Name'])[['Average_instances_running', 'Reserved_instances']].sum()\n",
        "print(apisum)"
      ],
      "metadata": {
        "colab": {
          "base_uri": "https://localhost:8080/"
        },
        "id": "ZPR_fka6ocqI",
        "outputId": "47cada22-2789-4799-e4aa-0765a720d220"
      },
      "execution_count": null,
      "outputs": [
        {
          "output_type": "stream",
          "name": "stdout",
          "text": [
            "                Average_instances_running  Reserved_instances\n",
            "API_Name                                                     \n",
            "db.m3.large                           0.0                 2.0\n",
            "db.m3.medium                          0.1                 4.0\n",
            "db.m3.xlarge                          7.0                 2.0\n",
            "db.m4.10xlarge                        1.0                 3.0\n",
            "db.m4.16xlarge                       22.4                20.0\n",
            "db.m4.2xlarge                         4.1                 8.0\n",
            "db.m4.4xlarge                         9.2                 8.0\n",
            "db.m4.large                          54.4                64.0\n",
            "db.m4.xlarge                         51.6                65.0\n",
            "db.m5.16xlarge                        1.0                 1.0\n",
            "db.m5.2xlarge                        23.8                22.0\n",
            "db.m5.4xlarge                        17.1                14.0\n",
            "db.m5.8xlarge                         3.3                 6.0\n",
            "db.m5.large                          33.7                15.0\n",
            "db.m5.xlarge                         46.2                20.0\n",
            "db.r3.2xlarge                         1.0                 2.0\n",
            "db.r3.large                           8.2                 8.0\n",
            "db.r3.xlarge                         12.0                 3.0\n",
            "db.r4.2xlarge                         8.2                 9.0\n",
            "db.r4.4xlarge                         1.0                 2.0\n",
            "db.r4.8xlarge                         1.0                 1.0\n",
            "db.r4.large                           8.3                60.0\n",
            "db.r4.xlarge                         15.2                20.0\n",
            "db.r5.2xlarge                        19.1                24.0\n",
            "db.r5.4xlarge                         6.1                 6.0\n",
            "db.r5.large                          20.9                42.0\n",
            "db.r5.xlarge                         11.0                21.0\n",
            "db.t2.large                           2.0                18.0\n",
            "db.t2.medium                         10.6                 7.0\n",
            "db.t2.micro                          25.0                20.0\n",
            "db.t2.small                          11.0                12.0\n",
            "db.t2.xlarge                          1.0                 1.0\n",
            "db.t3.large                           9.8                28.0\n",
            "db.t3.medium                         15.2                60.0\n",
            "db.t3.micro                           2.0                 6.0\n",
            "db.t3.small                          16.1                35.0\n",
            "db.t3.xlarge                          8.0                20.0\n"
          ]
        }
      ]
    },
    {
      "cell_type": "code",
      "source": [
        "#grouping dataset by Engines\n",
        "engsum = df.groupby(['Engine'])[['Average_instances_running', 'Reserved_instances']].sum()\n",
        "print(engsum)"
      ],
      "metadata": {
        "colab": {
          "base_uri": "https://localhost:8080/"
        },
        "id": "KtjmjhrMoc-A",
        "outputId": "30b426c5-2471-4f91-8775-77b21a343376"
      },
      "execution_count": null,
      "outputs": [
        {
          "output_type": "stream",
          "name": "stdout",
          "text": [
            "            Average_instances_running  Reserved_instances\n",
            "Engine                                                   \n",
            "Amazon                           19.5                39.0\n",
            "MariaDB                          47.5                67.0\n",
            "Microsoft                        46.2                59.0\n",
            "MySQL                            48.2                83.0\n",
            "Oracle                          300.9               369.0\n",
            "PostgreSql                       25.3                42.0\n"
          ]
        }
      ]
    },
    {
      "cell_type": "code",
      "source": [
        "#creating dataframe with just Oracle data\n",
        "oracle = df[df['Engine']=='Oracle']\n",
        "print(oracle)"
      ],
      "metadata": {
        "colab": {
          "base_uri": "https://localhost:8080/"
        },
        "id": "yoyJ74P8rD-x",
        "outputId": "523300e4-0473-4c8b-811c-42c1a373c69c"
      },
      "execution_count": null,
      "outputs": [
        {
          "output_type": "stream",
          "name": "stdout",
          "text": [
            "          API_Name  Engine          Region  Average_instances_running  \\\n",
            "0    db.r5.2xlarge  Oracle  ap-southeast-2                        1.0   \n",
            "1      db.r5.large  Oracle  ap-southeast-1                        1.1   \n",
            "2    db.m4.4xlarge  Oracle  ap-southeast-1                        1.1   \n",
            "12   db.r4.2xlarge  Oracle  ap-southeast-1                        3.1   \n",
            "16     db.m5.large  Oracle  ap-southeast-1                        1.7   \n",
            "..             ...     ...             ...                        ...   \n",
            "178   db.r5.xlarge  Oracle  ap-southeast-1                        4.9   \n",
            "179    db.m4.large  Oracle  ap-southeast-1                        7.2   \n",
            "180  db.m4.2xlarge  Oracle  ap-southeast-1                        1.0   \n",
            "181    db.m5.large  Oracle  ap-southeast-1                        0.0   \n",
            "183    db.r5.large  Oracle  ap-southeast-1                        5.1   \n",
            "\n",
            "     Reserved_instances  \n",
            "0                   3.0  \n",
            "1                   6.0  \n",
            "2                   2.0  \n",
            "12                  3.0  \n",
            "16                  1.0  \n",
            "..                  ...  \n",
            "178                 7.0  \n",
            "179                 4.0  \n",
            "180                 4.0  \n",
            "181                 1.0  \n",
            "183                 6.0  \n",
            "\n",
            "[97 rows x 5 columns]\n"
          ]
        }
      ]
    },
    {
      "cell_type": "code",
      "source": [
        "#Calculating Oracle total running and total reserved instances in each Region\n",
        "oragrup = oracle.groupby(['Region'])[['Average_instances_running', 'Reserved_instances']].sum()\n",
        "print(oragrup)"
      ],
      "metadata": {
        "colab": {
          "base_uri": "https://localhost:8080/"
        },
        "id": "3ocXcF64rNwr",
        "outputId": "97d75948-0703-4185-c026-4c8b9514a57e"
      },
      "execution_count": null,
      "outputs": [
        {
          "output_type": "stream",
          "name": "stdout",
          "text": [
            "                Average_instances_running  Reserved_instances\n",
            "Region                                                       \n",
            "ap-southeast-1                      250.4               274.0\n",
            "ap-southeast-2                        8.5                25.0\n",
            "eu-west-1                            42.0                70.0\n"
          ]
        }
      ]
    },
    {
      "cell_type": "code",
      "source": [
        "#adding new column Over Reserved\n",
        "oragrup['Over_Reserved'] = oragrup.apply(lambda row: row.Average_instances_running - row.Reserved_instances, axis=1)\n",
        "print(oragrup)"
      ],
      "metadata": {
        "colab": {
          "base_uri": "https://localhost:8080/"
        },
        "id": "Pt4znzXesOXc",
        "outputId": "54f75484-12b2-4c0a-a46d-06fcd73a4b4e"
      },
      "execution_count": null,
      "outputs": [
        {
          "output_type": "stream",
          "name": "stdout",
          "text": [
            "                Average_instances_running  Reserved_instances  Over_Reserved\n",
            "Region                                                                      \n",
            "ap-southeast-1                      250.4               274.0          -23.6\n",
            "ap-southeast-2                        8.5                25.0          -16.5\n",
            "eu-west-1                            42.0                70.0          -28.0\n"
          ]
        }
      ]
    },
    {
      "cell_type": "code",
      "source": [
        "#importing matplotlib library to create bar plot\n",
        "import matplotlib.pyplot as plt"
      ],
      "metadata": {
        "id": "qcK95bU3svTa"
      },
      "execution_count": null,
      "outputs": []
    },
    {
      "cell_type": "code",
      "source": [
        "#sorting values descending\n",
        "oragrup_sorted = oragrup.sort_values('Over_Reserved',ascending=False)"
      ],
      "metadata": {
        "id": "9QsDvllvt0pT"
      },
      "execution_count": null,
      "outputs": []
    },
    {
      "cell_type": "code",
      "source": [
        "#creating bar blot\n",
        "plt.bar(['ap-southeast-1','ap-southeast-2','eu-west-1'], oragrup_sorted['Over_Reserved'])\n",
        "plt.show()"
      ],
      "metadata": {
        "colab": {
          "base_uri": "https://localhost:8080/",
          "height": 269
        },
        "id": "v776mwzas_96",
        "outputId": "01d25adc-1ca6-4d1f-f416-017920760bb9"
      },
      "execution_count": null,
      "outputs": [
        {
          "output_type": "display_data",
          "data": {
            "text/plain": [
              "<Figure size 432x288 with 1 Axes>"
            ],
            "image/png": "[encoded data removed]"
          },
          "metadata": {
            "needs_background": "light"
          }
        }
      ]
    }
  ]
}